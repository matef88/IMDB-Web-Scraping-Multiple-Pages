{
 "cells": [
  {
   "cell_type": "markdown",
   "source": [
    "### Imports"
   ],
   "metadata": {
    "collapsed": false
   }
  },
  {
   "cell_type": "code",
   "execution_count": null,
   "outputs": [],
   "source": [
    "import requests\n",
    "import pandas as pd\n",
    "from bs4 import BeautifulSoup\n",
    "from selenium import webdriver\n",
    "from selenium.webdriver.common.by import By\n",
    "from selenium.webdriver.support.ui import Select\n",
    "from selenium.webdriver.support.ui import WebDriverWait\n",
    "from selenium.common.exceptions import NoSuchElementException\n",
    "from selenium.webdriver.support import expected_conditions as EC"
   ],
   "metadata": {
    "collapsed": false
   }
  },
  {
   "cell_type": "markdown",
   "source": [
    "### Automation with Selenium"
   ],
   "metadata": {
    "collapsed": false
   }
  },
  {
   "cell_type": "code",
   "execution_count": null,
   "outputs": [],
   "source": [
    "driver = webdriver.Chrome()\n",
    "url = \"https://www.imdb.com/\"\n",
    "delay = 3\n",
    "#open IMDB\n",
    "driver.get(url)\n",
    "\n",
    "#maximize windows\n",
    "driver.maximize_window()\n",
    "\n",
    "# select the dropdown list\n",
    "dropdown = driver.find_element(By.CLASS_NAME, \"ipc-icon--arrow-drop-down\")\n",
    "dropdown.click()\n",
    "\n",
    "# click on advanced search\n",
    "WebDriverWait(driver, delay).until(EC.presence_of_element_located((By.LINK_TEXT, \"Advanced Search\")))\n",
    "advancedSearch = driver.find_element(By.LINK_TEXT, \"Advanced Search\")\n",
    "advancedSearch.click()\n",
    "\n",
    "# Click on advanced title search\n",
    "WebDriverWait(driver, delay).until(EC.presence_of_element_located((By.LINK_TEXT, \"Advanced Title Search\")))\n",
    "adv_title = driver.find_element(By.LINK_TEXT, \"Advanced Title Search\")\n",
    "adv_title.click()\n",
    "\n",
    "# Click on Feature Film, TV movie\n",
    "WebDriverWait(driver, delay).until(EC.presence_of_element_located((By.ID, \"header\")))\n",
    "featureFilm = driver.find_element(By.ID, \"title_type-1\")\n",
    "featureFilm.click()\n",
    "tvMovie = driver.find_element(By.ID, \"title_type-2\")\n",
    "tvMovie.click()\n",
    "\n",
    "# Release Dates min and max\n",
    "min_date = driver.find_element(By.NAME, \"release_date-min\")\n",
    "min_date.click()\n",
    "min_date.send_keys(\"1950\")\n",
    "max_date = driver.find_element(By.NAME, \"release_date-max\")\n",
    "max_date.click()\n",
    "max_date.send_keys(\"2020\")\n",
    "\n",
    "#user rating\n",
    "minRating = driver.find_element(By.NAME, \"user_rating-min\")\n",
    "minRating.click()\n",
    "min_dropdown = Select(minRating)\n",
    "min_dropdown.select_by_visible_text(\"7.0\")\n",
    "\n",
    "maxRating = driver.find_element(By.NAME, \"user_rating-max\")\n",
    "maxRating.click()\n",
    "max_dropdown = Select(maxRating)\n",
    "max_dropdown.select_by_visible_text(\"10\")\n",
    "\n",
    "#oscar nominated\n",
    "driver.find_element(By.ID, \"groups-7\").click()\n",
    "\n",
    "#saerch count\n",
    "searchCount = driver.find_element(By.ID, \"search-count\")\n",
    "searchCount.click()\n",
    "searchCount = Select(searchCount)\n",
    "searchCount.select_by_index(2)\n",
    "\n",
    "#search start\n",
    "submit = driver.find_element(By.XPATH, \"(//button[@type='submit'])[2]\")\n",
    "submit.click()\n",
    "\n",
    "#save url\n",
    "searchedURL = []\n",
    "\n",
    "# func. to find the next bottom\n",
    "def check(classname):\n",
    "    try:\n",
    "        driver.find_element(By.CLASS_NAME, classname)\n",
    "    except NoSuchElementException:\n",
    "        return False\n",
    "    return True\n",
    "\n",
    "# check point for next point\n",
    "while check('lister-page-next') is True:\n",
    "    searchedURL.append(driver.current_url)\n",
    "    driver.find_element(By.CLASS_NAME, 'lister-page-next').click()\n",
    "else:\n",
    "    searchedURL.append(driver.current_url)\n",
    "    pass\n",
    "\n",
    "# create empty list to append later\n",
    "movie_title = []\n",
    "released_year = []\n",
    "run_time = []\n",
    "genre = []\n",
    "rating = []\n",
    "vote_counts = []\n",
    "director = []\n",
    "\n",
    "#for loop to save the different urls\n",
    "for url in searchedURL:\n",
    "    # get request url changed automatically\n",
    "    response = requests.get(url)\n",
    "    # soup object\n",
    "    soup = BeautifulSoup(response.content, 'html.parser')\n",
    "    #result items\n",
    "    list_items = soup.findAll('div', {'class':'lister-item'})\n",
    "    for lis in list_items:\n",
    "        movie_title.append(lis.find('h3').find('a').get_text())\n",
    "        released_year.append(lis.find('h3').find('span', {'class':'lister-item-year'}).get_text().replace(' TV Movie', '').split(' ')[-1].replace('(','').replace(')',''))\n",
    "        run_time.append(lis.find('p').find('span', {'class':'runtime'}).get_text().replace(' min',''))\n",
    "        genre.append(lis.find('p').find('span', {'class':'genre'}).get_text().strip())\n",
    "        rating.append(lis.find('div', {'class':'ratings-bar'}).find('strong').get_text().strip())\n",
    "        vote_counts.append(lis.find('p', {'class':'sort-num_votes-visible'}).find('span', {'name':'nv'}).get_text().replace(',',''))\n",
    "        director.append(lis.find('p', {'class':''}).find('a').get_text())\n",
    "        imdb_df = pd.DataFrame({'Movie Title':movie_title, \"Released Year\":released_year, \"Movie Duration\":run_time, \"Genre\":genre, \"Rating\":rating, \"Vote Counts\":vote_counts, \"Director\":director})\n",
    "\n",
    "#export to csv file\n",
    "imdb_df.to_csv(\"IMDB.csv\", index=False)"
   ],
   "metadata": {
    "collapsed": false
   }
  }
 ],
 "metadata": {
  "kernelspec": {
   "display_name": "Python 3",
   "language": "python",
   "name": "python3"
  },
  "language_info": {
   "codemirror_mode": {
    "name": "ipython",
    "version": 2
   },
   "file_extension": ".py",
   "mimetype": "text/x-python",
   "name": "python",
   "nbconvert_exporter": "python",
   "pygments_lexer": "ipython2",
   "version": "2.7.6"
  }
 },
 "nbformat": 4,
 "nbformat_minor": 0
}
